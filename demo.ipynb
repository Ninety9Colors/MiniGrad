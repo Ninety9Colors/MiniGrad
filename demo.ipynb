{
 "cells": [
  {
   "cell_type": "markdown",
   "metadata": {},
   "source": [
    "# Minigrad Demo"
   ]
  },
  {
   "cell_type": "code",
   "execution_count": 1,
   "metadata": {},
   "outputs": [],
   "source": [
    "import csv\n",
    "import matplotlib.pyplot as plt\n",
    "import random\n",
    "\n",
    "import neural\n",
    "from value import Value"
   ]
  },
  {
   "cell_type": "markdown",
   "metadata": {},
   "source": [
    "#### First, we load the dataset into arrays.\n",
    "\n",
    "The final value is the price of the wine, and we load this into our Y array.\n",
    "The rest of them are data that we will use to predict the rating, we load these into our X array."
   ]
  },
  {
   "cell_type": "code",
   "execution_count": 2,
   "metadata": {},
   "outputs": [],
   "source": [
    "# Load dataset\n",
    "\n",
    "def load_data(file_name):\n",
    "    result_x = []\n",
    "    result_y = []\n",
    "    with open(file_name) as file:\n",
    "        reader = csv.reader(file)\n",
    "        next(reader)\n",
    "\n",
    "        for row in reader:\n",
    "            x = []\n",
    "            y = []\n",
    "\n",
    "            for i in range(len(row)):\n",
    "                if i == 2:\n",
    "                    if row[i] == 'Yes':\n",
    "                        x.append(1)\n",
    "                    else:\n",
    "                        x.append(0)\n",
    "                elif i == len(row)-1:\n",
    "                    y.append(float(row[i]))\n",
    "                else:\n",
    "                    x.append(float(row[i]))\n",
    "            \n",
    "            result_x.append(x)\n",
    "            result_y.append(y)\n",
    "    \n",
    "    return result_x, result_y\n",
    "\n",
    "X, Y = load_data('datasets/Student_Performance.csv')"
   ]
  },
  {
   "cell_type": "code",
   "execution_count": 3,
   "metadata": {},
   "outputs": [
    {
     "name": "stdout",
     "output_type": "stream",
     "text": [
      "10000\n",
      "[7.0, 99.0, 1, 9.0, 1.0] [91.0]\n",
      "[4.0, 82.0, 0, 4.0, 2.0] [65.0]\n",
      "[8.0, 51.0, 1, 7.0, 2.0] [45.0]\n",
      "[5.0, 52.0, 1, 5.0, 2.0] [36.0]\n",
      "[7.0, 75.0, 0, 8.0, 5.0] [66.0]\n"
     ]
    }
   ],
   "source": [
    "# Print the size and first 5 elements of dataset\n",
    "print(len(X))\n",
    "for i in range(5): print(X[i], Y[i])"
   ]
  },
  {
   "cell_type": "markdown",
   "metadata": {},
   "source": [
    "#### Architecture\n",
    "\n",
    "We use multilayer perceptron with an input size of 5 and output size of 1, for each input feature and the single score output.\n",
    "Each hidden layer will have a relu activation, and the output will be linear\n",
    "\n",
    "The network will output a float value, and we will use it to find the predicted score."
   ]
  },
  {
   "cell_type": "code",
   "execution_count": 4,
   "metadata": {},
   "outputs": [
    {
     "name": "stdout",
     "output_type": "stream",
     "text": [
      "MLP(input_size=5, layer_sizes=[8, 4, 1])\n"
     ]
    }
   ],
   "source": [
    "mlp = neural.MLP(input_size=5, layer_sizes=[8, 4, 1], seed=None, inner_activation='leaky_relu', final_activation='linear')\n",
    "print(mlp)"
   ]
  },
  {
   "cell_type": "code",
   "execution_count": 5,
   "metadata": {},
   "outputs": [
    {
     "name": "stdout",
     "output_type": "stream",
     "text": [
      "[Value(data=-0.16147894160259169, grad=0), Value(data=-0.4974134996507569, grad=0), Value(data=-0.4657671886842014, grad=0), Value(data=0.5937181484331033, grad=0), Value(data=-0.399287584794906, grad=0)]\n",
      "89\n"
     ]
    }
   ],
   "source": [
    "# Get the parameters\n",
    "\n",
    "param = mlp.parameters()\n",
    "print(param[:5])\n",
    "print(len(param))"
   ]
  },
  {
   "cell_type": "markdown",
   "metadata": {},
   "source": [
    "Before we train our MLP, we will split the dataset into training and test sets, so we can evaluate the performance after running gradient descent"
   ]
  },
  {
   "cell_type": "code",
   "execution_count": 6,
   "metadata": {},
   "outputs": [
    {
     "name": "stdout",
     "output_type": "stream",
     "text": [
      "8000 2000\n",
      "[7.0, 99.0, 1, 9.0, 1.0] [91.0]\n",
      "[4.0, 82.0, 0, 4.0, 2.0] [65.0]\n",
      "[8.0, 51.0, 1, 7.0, 2.0] [45.0]\n",
      "[5.0, 52.0, 1, 5.0, 2.0] [36.0]\n",
      "[7.0, 75.0, 0, 8.0, 5.0] [66.0]\n"
     ]
    }
   ],
   "source": [
    "# Split data\n",
    "\n",
    "train, test = neural.train_test_split(list(zip(X, Y)), 0.8, shuffle=False)\n",
    "\n",
    "X_train = [i[0] for i in train]\n",
    "Y_train = [i[1] for i in train]\n",
    "\n",
    "X_test = [i[0] for i in test]\n",
    "Y_test = [i[1] for i in test]\n",
    "\n",
    "print(len(X_train), len(Y_test))\n",
    "for i in range(5): print(X_train[i], Y_train[i])"
   ]
  },
  {
   "cell_type": "code",
   "execution_count": 7,
   "metadata": {},
   "outputs": [
    {
     "name": "stdout",
     "output_type": "stream",
     "text": [
      "0 Value(data=1079.7103258726954, grad=1)\n",
      "5 Value(data=989.4224499135677, grad=1)\n",
      "10 Value(data=912.271186588564, grad=1)\n",
      "15 Value(data=856.8114423039627, grad=1)\n",
      "20 Value(data=772.1133306866533, grad=1)\n",
      "25 Value(data=686.8645746902774, grad=1)\n",
      "30 Value(data=645.2758419014528, grad=1)\n",
      "35 Value(data=595.7813012672033, grad=1)\n",
      "40 Value(data=558.6898505311931, grad=1)\n",
      "45 Value(data=484.7865676258934, grad=1)\n",
      "50 Value(data=461.05366400137274, grad=1)\n",
      "55 Value(data=417.79764158216585, grad=1)\n",
      "60 Value(data=369.1555813121909, grad=1)\n",
      "65 Value(data=334.3599161230482, grad=1)\n",
      "70 Value(data=313.64404091586704, grad=1)\n",
      "75 Value(data=275.4170454096623, grad=1)\n",
      "80 Value(data=255.61765163855412, grad=1)\n",
      "85 Value(data=233.83445706861937, grad=1)\n",
      "90 Value(data=211.55274463722716, grad=1)\n",
      "95 Value(data=187.24547311586426, grad=1)\n",
      "100 Value(data=172.48930593801018, grad=1)\n",
      "105 Value(data=162.4285865460589, grad=1)\n",
      "110 Value(data=145.8178834218655, grad=1)\n",
      "115 Value(data=130.98604487495808, grad=1)\n",
      "120 Value(data=116.2674305272883, grad=1)\n",
      "125 Value(data=109.34161321604195, grad=1)\n",
      "130 Value(data=102.73933528583295, grad=1)\n",
      "135 Value(data=92.54776181673819, grad=1)\n",
      "140 Value(data=89.18307534000493, grad=1)\n",
      "145 Value(data=82.51809346459062, grad=1)\n",
      "150 Value(data=79.65877735163163, grad=1)\n",
      "155 Value(data=73.08486323640162, grad=1)\n",
      "160 Value(data=70.48138751753925, grad=1)\n",
      "165 Value(data=63.15136240622906, grad=1)\n",
      "170 Value(data=61.20691740195116, grad=1)\n",
      "175 Value(data=58.31838531353769, grad=1)\n",
      "180 Value(data=56.226575979277754, grad=1)\n",
      "185 Value(data=56.41048234096428, grad=1)\n",
      "190 Value(data=53.67433296061388, grad=1)\n",
      "195 Value(data=48.99888262680235, grad=1)\n",
      "200 Value(data=51.597690397638765, grad=1)\n",
      "205 Value(data=47.13286852117818, grad=1)\n",
      "210 Value(data=44.37288637749197, grad=1)\n",
      "215 Value(data=50.02190436381908, grad=1)\n",
      "220 Value(data=42.874644494358606, grad=1)\n",
      "225 Value(data=48.21557394391543, grad=1)\n",
      "230 Value(data=45.21889447984413, grad=1)\n",
      "235 Value(data=44.084555572531734, grad=1)\n",
      "240 Value(data=42.33781888471385, grad=1)\n",
      "245 Value(data=45.79889695455709, grad=1)\n",
      "250 Value(data=44.813013197219405, grad=1)\n",
      "255 Value(data=46.14362738334283, grad=1)\n",
      "260 Value(data=43.38764214813683, grad=1)\n",
      "265 Value(data=44.60220078497252, grad=1)\n",
      "270 Value(data=41.23436230700928, grad=1)\n",
      "275 Value(data=44.31047105262167, grad=1)\n",
      "280 Value(data=43.070531210214895, grad=1)\n",
      "285 Value(data=42.28044335703312, grad=1)\n",
      "290 Value(data=42.30134220059133, grad=1)\n",
      "295 Value(data=41.49910040314419, grad=1)\n",
      "300 Value(data=41.5880158254552, grad=1)\n",
      "305 Value(data=44.11030817636342, grad=1)\n",
      "310 Value(data=40.077251117851816, grad=1)\n",
      "315 Value(data=43.963834909289396, grad=1)\n",
      "320 Value(data=37.94790453051512, grad=1)\n",
      "325 Value(data=41.3901987878476, grad=1)\n",
      "330 Value(data=41.395687584670185, grad=1)\n",
      "335 Value(data=40.92656651789538, grad=1)\n",
      "340 Value(data=41.486148020642325, grad=1)\n",
      "345 Value(data=43.433947143402236, grad=1)\n",
      "350 Value(data=42.26357774446294, grad=1)\n",
      "355 Value(data=42.09998279150046, grad=1)\n",
      "360 Value(data=41.4999447132729, grad=1)\n",
      "365 Value(data=40.65086464646102, grad=1)\n",
      "370 Value(data=41.169804819326664, grad=1)\n",
      "375 Value(data=42.570992185653736, grad=1)\n",
      "380 Value(data=40.85207463637927, grad=1)\n",
      "385 Value(data=42.16746137545698, grad=1)\n",
      "390 Value(data=41.844537873091284, grad=1)\n",
      "395 Value(data=40.85455699419829, grad=1)\n",
      "400 Value(data=41.00914371982022, grad=1)\n",
      "405 Value(data=41.55453034914973, grad=1)\n",
      "410 Value(data=40.79780034087071, grad=1)\n",
      "415 Value(data=40.18431767662209, grad=1)\n",
      "420 Value(data=41.59095504985439, grad=1)\n",
      "425 Value(data=39.70063685038745, grad=1)\n",
      "430 Value(data=41.96959472832416, grad=1)\n",
      "435 Value(data=42.689046577406614, grad=1)\n",
      "440 Value(data=38.59358653728454, grad=1)\n",
      "445 Value(data=40.736068113335044, grad=1)\n",
      "450 Value(data=42.54682001455072, grad=1)\n",
      "455 Value(data=40.940959672606496, grad=1)\n",
      "460 Value(data=39.64369058121696, grad=1)\n",
      "465 Value(data=41.97026843721005, grad=1)\n",
      "470 Value(data=38.856511657221645, grad=1)\n",
      "475 Value(data=39.46336616263494, grad=1)\n",
      "480 Value(data=38.94159705606571, grad=1)\n",
      "485 Value(data=39.93568807783303, grad=1)\n",
      "490 Value(data=41.48251941602552, grad=1)\n",
      "495 Value(data=42.33865289475637, grad=1)\n"
     ]
    }
   ],
   "source": [
    "# For graphing purposes\n",
    "cost_history = []\n",
    "\n",
    "iterations = 500\n",
    "learning_rate = 0.000001\n",
    "lambda_ = 0.01\n",
    "batch_size = 1000\n",
    "\n",
    "for i in range(iterations):\n",
    "    if batch_size != 0:\n",
    "        random.seed()\n",
    "        random.shuffle(train)\n",
    "        X_batch = [train[i][0] for i in range(batch_size)]\n",
    "        Y_batch = [train[i][1] for i in range(batch_size)]\n",
    "    else:\n",
    "        X_batch = X_train[:100]\n",
    "        Y_batch = Y_train[:100]\n",
    "\n",
    "    cost = mlp.cost(X_batch, Y_batch, lambda_)  \n",
    "    cost.backward()\n",
    "\n",
    "    if i%5 == 0:\n",
    "        print(i, cost)\n",
    "        cost_history.append(cost)\n",
    "    \n",
    "    alpha = learning_rate\n",
    "\n",
    "    for p in param:\n",
    "        p.data -= alpha*p.grad"
   ]
  },
  {
   "cell_type": "code",
   "execution_count": 8,
   "metadata": {},
   "outputs": [
    {
     "name": "stdout",
     "output_type": "stream",
     "text": [
      "Value(data=41.31156845568952, grad=0)\n",
      "[Value(data=42.53666175182636, grad=0)] [28.0]\n",
      "[Value(data=38.553351611525144, grad=0)] [35.0]\n",
      "[Value(data=61.15384643716196, grad=0)] [63.0]\n",
      "[Value(data=71.37685378930527, grad=0)] [71.0]\n",
      "[Value(data=70.0096869097885, grad=0)] [78.0]\n",
      "[Value(data=34.161743713895646, grad=0)] [32.0]\n",
      "[Value(data=26.196191584113112, grad=0)] [40.0]\n",
      "[Value(data=53.83597717489381, grad=0)] [55.0]\n",
      "[Value(data=45.15677398846526, grad=0)] [42.0]\n",
      "[Value(data=74.68417304438005, grad=0)] [88.0]\n",
      "[Value(data=41.7962973050105, grad=0)] [43.0]\n",
      "[Value(data=59.969965839071826, grad=0)] [66.0]\n",
      "[Value(data=42.576156703424026, grad=0)] [33.0]\n",
      "[Value(data=33.051643394352844, grad=0)] [12.0]\n",
      "[Value(data=30.372172778448835, grad=0)] [32.0]\n",
      "[Value(data=62.681618786751265, grad=0)] [48.0]\n",
      "[Value(data=38.73634032327866, grad=0)] [56.0]\n",
      "[Value(data=79.02653242730517, grad=0)] [73.0]\n",
      "[Value(data=71.71913541988201, grad=0)] [65.0]\n",
      "[Value(data=71.58249805690316, grad=0)] [83.0]\n",
      "[Value(data=67.30728305375628, grad=0)] [53.0]\n",
      "[Value(data=32.4192265516626, grad=0)] [39.0]\n",
      "[Value(data=38.703258472224135, grad=0)] [32.0]\n",
      "[Value(data=53.40237184543755, grad=0)] [55.0]\n",
      "[Value(data=70.31632371940606, grad=0)] [76.0]\n",
      "[Value(data=64.98724967500046, grad=0)] [69.0]\n",
      "[Value(data=44.48349916103098, grad=0)] [54.0]\n",
      "[Value(data=77.56487722473686, grad=0)] [89.0]\n",
      "[Value(data=73.32444736646752, grad=0)] [87.0]\n",
      "[Value(data=56.45345887601575, grad=0)] [66.0]\n",
      "[Value(data=66.07138053962052, grad=0)] [65.0]\n",
      "[Value(data=80.37486581542686, grad=0)] [71.0]\n",
      "[Value(data=41.032253052421986, grad=0)] [27.0]\n",
      "[Value(data=41.35977399419685, grad=0)] [38.0]\n",
      "[Value(data=46.736993841929454, grad=0)] [43.0]\n",
      "[Value(data=51.503629409623116, grad=0)] [38.0]\n",
      "[Value(data=54.54874773977935, grad=0)] [59.0]\n",
      "[Value(data=49.2956240422128, grad=0)] [44.0]\n",
      "[Value(data=31.432012741169196, grad=0)] [39.0]\n",
      "[Value(data=63.71282639356508, grad=0)] [67.0]\n",
      "[Value(data=75.37415490272545, grad=0)] [70.0]\n",
      "[Value(data=42.2149943205117, grad=0)] [24.0]\n",
      "[Value(data=40.569685050486065, grad=0)] [31.0]\n",
      "[Value(data=36.51403244996051, grad=0)] [24.0]\n",
      "[Value(data=76.23728403839614, grad=0)] [61.0]\n",
      "[Value(data=63.183852290444676, grad=0)] [59.0]\n",
      "[Value(data=81.82050912338579, grad=0)] [87.0]\n",
      "[Value(data=74.02726107958188, grad=0)] [68.0]\n",
      "[Value(data=64.24605114212903, grad=0)] [62.0]\n",
      "[Value(data=42.141578310321634, grad=0)] [50.0]\n"
     ]
    }
   ],
   "source": [
    "predictions = mlp(X_test)\n",
    "print(mlp.cost(X_test, Y_test))\n",
    "for i in range(50): print(predictions[i], Y_test[i])\n",
    "cost_history = [c.data for c in cost_history]"
   ]
  },
  {
   "cell_type": "code",
   "execution_count": 9,
   "metadata": {},
   "outputs": [
    {
     "data": {
      "image/png": "[encoded data removed]",
      "text/plain": [
       "<Figure size 640x480 with 1 Axes>"
      ]
     },
     "metadata": {},
     "output_type": "display_data"
    }
   ],
   "source": [
    "# Graph cost over time\n",
    "\n",
    "plt.plot(cost_history)\n",
    "plt.yscale('log')"
   ]
  }
 ],
 "metadata": {
  "kernelspec": {
   "display_name": "Python 3",
   "language": "python",
   "name": "python3"
  },
  "language_info": {
   "codemirror_mode": {
    "name": "ipython",
    "version": 3
   },
   "file_extension": ".py",
   "mimetype": "text/x-python",
   "name": "python",
   "nbconvert_exporter": "python",
   "pygments_lexer": "ipython3",
   "version": "3.12.4"
  }
 },
 "nbformat": 4,
 "nbformat_minor": 2
}
