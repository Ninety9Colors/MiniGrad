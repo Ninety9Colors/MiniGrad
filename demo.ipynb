{
 "cells": [
  {
   "cell_type": "markdown",
   "metadata": {},
   "source": [
    "# Minigrad Demo"
   ]
  },
  {
   "cell_type": "code",
   "execution_count": 1,
   "metadata": {},
   "outputs": [],
   "source": [
    "import csv\n",
    "import matplotlib.pyplot as plt\n",
    "import random\n",
    "\n",
    "import neural\n",
    "from value import Value"
   ]
  },
  {
   "cell_type": "markdown",
   "metadata": {},
   "source": [
    "#### First, we load the dataset into arrays.\n",
    "\n",
    "The final value is the price of the wine, and we load this into our Y array.\n",
    "The rest of them are data that we will use to predict the rating, we load these into our X array."
   ]
  },
  {
   "cell_type": "code",
   "execution_count": 2,
   "metadata": {},
   "outputs": [],
   "source": [
    "# Load dataset\n",
    "\n",
    "def load_data(file_name):\n",
    "    result_x = []\n",
    "    result_y = []\n",
    "    with open(file_name) as file:\n",
    "        reader = csv.reader(file)\n",
    "        next(reader)\n",
    "\n",
    "        for row in reader:\n",
    "            x = []\n",
    "            y = []\n",
    "\n",
    "            for i in range(len(row)):\n",
    "                if i == 2:\n",
    "                    if row[i] == 'Yes':\n",
    "                        x.append(1)\n",
    "                    else:\n",
    "                        x.append(0)\n",
    "                elif i == len(row)-1:\n",
    "                    y.append(float(row[i]))\n",
    "                else:\n",
    "                    x.append(float(row[i]))\n",
    "            \n",
    "            result_x.append(x)\n",
    "            result_y.append(y)\n",
    "    \n",
    "    return result_x, result_y\n",
    "\n",
    "X, Y = load_data('datasets/Student_Performance.csv')"
   ]
  },
  {
   "cell_type": "code",
   "execution_count": 3,
   "metadata": {},
   "outputs": [
    {
     "name": "stdout",
     "output_type": "stream",
     "text": [
      "10000\n",
      "[7.0, 99.0, 1, 9.0, 1.0] [91.0]\n",
      "[4.0, 82.0, 0, 4.0, 2.0] [65.0]\n",
      "[8.0, 51.0, 1, 7.0, 2.0] [45.0]\n",
      "[5.0, 52.0, 1, 5.0, 2.0] [36.0]\n",
      "[7.0, 75.0, 0, 8.0, 5.0] [66.0]\n"
     ]
    }
   ],
   "source": [
    "# Print the size and first 5 elements of dataset\n",
    "print(len(X))\n",
    "for i in range(5): print(X[i], Y[i])"
   ]
  },
  {
   "cell_type": "markdown",
   "metadata": {},
   "source": [
    "#### Architecture\n",
    "\n",
    "We use multilayer perceptron with an input size of 5 and output size of 1, for each input feature and the single score output.\n",
    "Each hidden layer will have a relu activation, and the output will be linear\n",
    "\n",
    "The network will output a float value, and we will use it to find the predicted score."
   ]
  },
  {
   "cell_type": "code",
   "execution_count": 4,
   "metadata": {},
   "outputs": [
    {
     "name": "stdout",
     "output_type": "stream",
     "text": [
      "MLP(input_size=5, layer_sizes=[16, 8, 1])\n"
     ]
    }
   ],
   "source": [
    "mlp = neural.MLP(input_size=5, layer_sizes=[16, 8, 1], seed=None, inner_activation='leaky_relu', final_activation='linear')\n",
    "print(mlp)"
   ]
  },
  {
   "cell_type": "code",
   "execution_count": 5,
   "metadata": {},
   "outputs": [
    {
     "name": "stdout",
     "output_type": "stream",
     "text": [
      "[Value(data=-0.7013231124307862, grad=0), Value(data=0.8876073283211705, grad=0), Value(data=0.72910139244291, grad=0), Value(data=0.3259661040192585, grad=0), Value(data=0.2842664349098558, grad=0)]\n",
      "241\n"
     ]
    }
   ],
   "source": [
    "# Get the parameters\n",
    "\n",
    "param = mlp.parameters()\n",
    "print(param[:5])\n",
    "print(len(param))"
   ]
  },
  {
   "cell_type": "markdown",
   "metadata": {},
   "source": [
    "Before we train our MLP, we will split the dataset into training and test sets, so we can evaluate the performance after running gradient descent"
   ]
  },
  {
   "cell_type": "code",
   "execution_count": 6,
   "metadata": {},
   "outputs": [
    {
     "name": "stdout",
     "output_type": "stream",
     "text": [
      "8000 2000\n",
      "[7.0, 99.0, 1, 9.0, 1.0] [91.0]\n",
      "[4.0, 82.0, 0, 4.0, 2.0] [65.0]\n",
      "[8.0, 51.0, 1, 7.0, 2.0] [45.0]\n",
      "[5.0, 52.0, 1, 5.0, 2.0] [36.0]\n",
      "[7.0, 75.0, 0, 8.0, 5.0] [66.0]\n"
     ]
    }
   ],
   "source": [
    "# Split data\n",
    "\n",
    "train, test = neural.train_test_split(list(zip(X, Y)), 0.8, shuffle=False)\n",
    "\n",
    "X_train = [i[0] for i in train]\n",
    "Y_train = [i[1] for i in train]\n",
    "\n",
    "X_test = [i[0] for i in test]\n",
    "Y_test = [i[1] for i in test]\n",
    "\n",
    "print(len(X_train), len(Y_test))\n",
    "for i in range(5): print(X_train[i], Y_train[i])"
   ]
  },
  {
   "cell_type": "code",
   "execution_count": 7,
   "metadata": {},
   "outputs": [
    {
     "name": "stdout",
     "output_type": "stream",
     "text": [
      "0 Value(data=27421240.31439717, grad=1)\n",
      "10 Value(data=6122850.80241145, grad=1)\n",
      "20 Value(data=1476521.5397269425, grad=1)\n",
      "30 Value(data=406532.46065531136, grad=1)\n",
      "40 Value(data=138251.22360664565, grad=1)\n",
      "50 Value(data=79105.31876991078, grad=1)\n",
      "60 Value(data=71338.55918349331, grad=1)\n",
      "70 Value(data=65990.53620952921, grad=1)\n",
      "80 Value(data=68921.79663070063, grad=1)\n",
      "90 Value(data=68080.30121800449, grad=1)\n",
      "100 Value(data=63404.30267919832, grad=1)\n",
      "110 Value(data=61600.249377792374, grad=1)\n",
      "120 Value(data=66954.07974368284, grad=1)\n",
      "130 Value(data=70324.84990270234, grad=1)\n",
      "140 Value(data=65761.01457980736, grad=1)\n",
      "150 Value(data=65993.85022452385, grad=1)\n",
      "160 Value(data=67895.3088753908, grad=1)\n",
      "170 Value(data=68461.467997578, grad=1)\n",
      "180 Value(data=67582.61266244495, grad=1)\n",
      "190 Value(data=62676.53929809706, grad=1)\n",
      "200 Value(data=65745.34735794821, grad=1)\n",
      "210 Value(data=68405.81366472722, grad=1)\n",
      "220 Value(data=67127.73531286449, grad=1)\n",
      "230 Value(data=63353.32334236115, grad=1)\n",
      "240 Value(data=70422.50071420455, grad=1)\n"
     ]
    }
   ],
   "source": [
    "# For graphing purposes\n",
    "cost_history = []\n",
    "\n",
    "iterations = 250\n",
    "learning_rate = 0.000000001\n",
    "lambda_ = 0.01\n",
    "batch_size = 1000\n",
    "\n",
    "for i in range(iterations):\n",
    "    if batch_size != 0:\n",
    "        random.seed()\n",
    "        random.shuffle(train)\n",
    "        X_batch = [train[i][0] for i in range(batch_size)]\n",
    "        Y_batch = [train[i][1] for i in range(batch_size)]\n",
    "    else:\n",
    "        X_batch = X_train[:100]\n",
    "        Y_batch = Y_train[:100]\n",
    "\n",
    "    cost = mlp.cost(X_batch, Y_batch, lambda_)  \n",
    "    cost.backward()\n",
    "\n",
    "    if i%10 == 0:\n",
    "        print(i, cost)\n",
    "        cost_history.append(cost)\n",
    "    \n",
    "    alpha = learning_rate\n",
    "\n",
    "    for p in param:\n",
    "        p.data -= alpha*p.grad"
   ]
  },
  {
   "cell_type": "code",
   "execution_count": 8,
   "metadata": {},
   "outputs": [
    {
     "name": "stdout",
     "output_type": "stream",
     "text": [
      "Value(data=134322.78875092164, grad=0)\n",
      "[Value(data=41.273056751840194, grad=0)] [28.0]\n",
      "[Value(data=40.96345820889613, grad=0)] [35.0]\n",
      "[Value(data=61.140712731185886, grad=0)] [63.0]\n",
      "[Value(data=71.00255565674595, grad=0)] [71.0]\n",
      "[Value(data=71.29849432332313, grad=0)] [78.0]\n",
      "[Value(data=33.99635454596769, grad=0)] [32.0]\n",
      "[Value(data=29.257529019479602, grad=0)] [40.0]\n",
      "[Value(data=55.574722360863944, grad=0)] [55.0]\n",
      "[Value(data=46.308835521088774, grad=0)] [42.0]\n",
      "[Value(data=75.51861771502143, grad=0)] [88.0]\n"
     ]
    }
   ],
   "source": [
    "predictions = mlp(X_test)\n",
    "print(mlp.cost(X_test, Y_test))\n",
    "for i in range(10): print(predictions[i], Y_test[i])"
   ]
  },
  {
   "cell_type": "code",
   "execution_count": 9,
   "metadata": {},
   "outputs": [
    {
     "data": {
      "image/png": "[encoded data removed]",
      "text/plain": [
       "<Figure size 640x480 with 1 Axes>"
      ]
     },
     "metadata": {},
     "output_type": "display_data"
    }
   ],
   "source": [
    "# Graph cost over time\n",
    "\n",
    "cost_history = [c.data for c in cost_history]\n",
    "plt.plot(cost_history)\n",
    "plt.yscale('log')\n",
    "plt.xscale('log')"
   ]
  }
 ],
 "metadata": {
  "kernelspec": {
   "display_name": "Python 3",
   "language": "python",
   "name": "python3"
  },
  "language_info": {
   "codemirror_mode": {
    "name": "ipython",
    "version": 3
   },
   "file_extension": ".py",
   "mimetype": "text/x-python",
   "name": "python",
   "nbconvert_exporter": "python",
   "pygments_lexer": "ipython3",
   "version": "3.12.4"
  }
 },
 "nbformat": 4,
 "nbformat_minor": 2
}
